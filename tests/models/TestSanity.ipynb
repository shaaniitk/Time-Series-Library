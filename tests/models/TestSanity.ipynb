{
 "cells": [
  {
   "cell_type": "code",
   "execution_count": null,
   "id": "0b0ff47f",
   "metadata": {},
   "outputs": [],
   "source": [
    "import unittest\n",
    "from tests.models.test_timesnet import TestTimesNet\n",
    "\n",
    "# Create an instance of the test case\n",
    "test_case = TestTimesNet(methodName='test_sanity')\n",
    "test_case.setUp()\n",
    "\n",
    "# Run the test_sanity method directly\n",
    "try:\n",
    "    test_case.test_sanity()\n",
    "except AssertionError as e:\n",
    "    print(\"AssertionError:\", e)\n",
    "except Exception as e:\n",
    "    print(\"Exception:\", e)"
   ]
  },
  {
   "cell_type": "markdown",
   "id": "16dd6f3b",
   "metadata": {},
   "source": [
    "### 2. Package Import"
   ]
  }
 ],
 "metadata": {
  "kernelspec": {
   "display_name": "tsl-env",
   "language": "python",
   "name": "python3"
  },
  "language_info": {
   "codemirror_mode": {
    "name": "ipython",
    "version": 3
   },
   "file_extension": ".py",
   "mimetype": "text/x-python",
   "name": "python",
   "nbconvert_exporter": "python",
   "pygments_lexer": "ipython3",
   "version": "3.11.9"
  }
 },
 "nbformat": 4,
 "nbformat_minor": 5
}
