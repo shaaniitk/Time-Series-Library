{
 "cells": [
  {
   "cell_type": "code",
   "execution_count": 1,
   "id": "0b0ff47f",
   "metadata": {},
   "outputs": [
    {
     "ename": "ModuleNotFoundError",
     "evalue": "No module named 'tests'",
     "output_type": "error",
     "traceback": [
      "\u001b[31m---------------------------------------------------------------------------\u001b[39m",
      "\u001b[31mModuleNotFoundError\u001b[39m                       Traceback (most recent call last)",
      "\u001b[36mCell\u001b[39m\u001b[36m \u001b[39m\u001b[32mIn[1]\u001b[39m\u001b[32m, line 2\u001b[39m\n\u001b[32m      1\u001b[39m \u001b[38;5;28;01mimport\u001b[39;00m\u001b[38;5;250m \u001b[39m\u001b[34;01munittest\u001b[39;00m\n\u001b[32m----> \u001b[39m\u001b[32m2\u001b[39m \u001b[38;5;28;01mfrom\u001b[39;00m\u001b[38;5;250m \u001b[39m\u001b[34;01mtests\u001b[39;00m\u001b[34;01m.\u001b[39;00m\u001b[34;01mmodels\u001b[39;00m\u001b[34;01m.\u001b[39;00m\u001b[34;01mtest_timesnet\u001b[39;00m\u001b[38;5;250m \u001b[39m\u001b[38;5;28;01mimport\u001b[39;00m TestTimesNet\n\u001b[32m      4\u001b[39m \u001b[38;5;66;03m# Create an instance of the test case\u001b[39;00m\n\u001b[32m      5\u001b[39m test_case = TestTimesNet(methodName=\u001b[33m'\u001b[39m\u001b[33mtest_sanity\u001b[39m\u001b[33m'\u001b[39m)\n",
      "\u001b[31mModuleNotFoundError\u001b[39m: No module named 'tests'"
     ]
    }
   ],
   "source": [
    "import unittest\n",
    "from tests.models.test_timesnet import TestTimesNet\n",
    "\n",
    "# Create an instance of the test case\n",
    "test_case = TestTimesNet(methodName='test_sanity')\n",
    "test_case.setUp()\n",
    "\n",
    "# Run the test_sanity method directly\n",
    "try:\n",
    "    test_case.test_sanity()\n",
    "except AssertionError as e:\n",
    "    print(\"AssertionError:\", e)\n",
    "except Exception as e:\n",
    "    print(\"Exception:\", e)"
   ]
  },
  {
   "cell_type": "markdown",
   "id": "16dd6f3b",
   "metadata": {},
   "source": [
    "### 2. Package Import"
   ]
  }
 ],
 "metadata": {
  "kernelspec": {
   "display_name": "tsl-env",
   "language": "python",
   "name": "python3"
  },
  "language_info": {
   "codemirror_mode": {
    "name": "ipython",
    "version": 3
   },
   "file_extension": ".py",
   "mimetype": "text/x-python",
   "name": "python",
   "nbconvert_exporter": "python",
   "pygments_lexer": "ipython3",
   "version": "3.11.9"
  }
 },
 "nbformat": 4,
 "nbformat_minor": 5
}
